{
 "cells": [
  {
   "cell_type": "markdown",
   "metadata": {},
   "source": [
    "## Descripción del algoritmo\n"
   ]
  },
  {
   "cell_type": "markdown",
   "metadata": {},
   "source": [
    "Se ha desarrollado un código en Python 3 a partir de los modelos globales. Se pretende comprobar si los resultados de la simulación son compatibles con datos disponibles de generación de un campo solar real.\n",
    "Se ha seguido el paradigma de Programación Orientada a Objetos, de tal forma que la planta solar y sus diferentes subsistemas se modelan mediante diferentes Clases. Estas clases disponen de métodos para la entrada/salida de información, así como atributos necesarios para caracterizar cada Objeto.\n",
    "En la descripción de las clases se seguirá un proceso ascendente en la estructura constructiva del campo solar, comenzando con los objetos más elementales, los HCE, y terminando con el campo solar en su conjunto. Además, otras clases se desarrollan, aunque de una forma muy elemental, para permitir futuras integraciones con otros elementos de la planta (Bloque de Potencia, Tren de Generación, Sistema BOP, etc.) "
   ]
  },
  {
   "cell_type": "code",
   "execution_count": null,
   "metadata": {},
   "outputs": [],
   "source": []
  }
 ],
 "metadata": {
  "kernelspec": {
   "display_name": "Python 3",
   "language": "python",
   "name": "python3"
  },
  "language_info": {
   "codemirror_mode": {
    "name": "ipython",
    "version": 3
   },
   "file_extension": ".py",
   "mimetype": "text/x-python",
   "name": "python",
   "nbconvert_exporter": "python",
   "pygments_lexer": "ipython3",
   "version": "3.7.4"
  },
  "latex_envs": {
   "LaTeX_envs_menu_present": true,
   "autoclose": false,
   "autocomplete": true,
   "bibliofile": "biblio.bib",
   "cite_by": "apalike",
   "current_citInitial": 1,
   "eqLabelWithNumbers": true,
   "eqNumInitial": 1,
   "hotkeys": {
    "equation": "Ctrl-E",
    "itemize": "Ctrl-I"
   },
   "labels_anchors": false,
   "latex_user_defs": false,
   "report_style_numbering": false,
   "user_envs_cfg": false
  },
  "toc": {
   "base_numbering": 1,
   "nav_menu": {},
   "number_sections": true,
   "sideBar": true,
   "skip_h1_title": false,
   "title_cell": "Table of Contents",
   "title_sidebar": "Contents",
   "toc_cell": false,
   "toc_position": {},
   "toc_section_display": true,
   "toc_window_display": false
  }
 },
 "nbformat": 4,
 "nbformat_minor": 4
}
