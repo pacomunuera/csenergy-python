{
 "cells": [
  {
   "cell_type": "markdown",
   "metadata": {},
   "source": [
    "<!--bibtex\n",
    "@article{Barbaro2016,\n",
    "\tAuthor = {Rubén Barbero, Antonio Rovira, María José Montes, José María Martínez Val},\n",
    "\tJournal = {Energy Conversion and Management},\n",
    "\tPages = {498- 511},\n",
    "\tdoi = {10.1016/j.enconman.2016.06.065},\n",
    "\tTitle = {A new approach for the prediction of thermal efficiency in solar receivers},\n",
    "\tVolume = {123},\n",
    "\tYear = {2016}}\n",
    "\n",
    "@phdthesis{barbero_fresno_desarrollo_2018,\n",
    "\ttitle = {Desarrollo de un modelo teórico para la caracterización del rendimiento térmico en colectores solares.  {Aplicación} a tecnologías de generación eléctrica},\n",
    "\turl = {http://e-spacio.uned.es/fez/eserv/tesisuned:ED-Pg-TecInd-Rbarbero/BARBERO_FRESNO_Ruben_Tesis.pdf},\n",
    "\turldate = {2020-05-12},\n",
    "\tschool = {Universidad Nacional de Educación a Distancia},\n",
    "\tauthor = {Barbero Fresno, Rubén},\n",
    "\tyear = {2018},\n",
    "\tfile = {BARBERO_FRESNO_Ruben_Tesis.pdf:C\\:\\\\Users\\\\paco\\\\Zotero\\\\storage\\\\A3YZUXJT\\\\BARBERO_FRESNO_Ruben_Tesis.pdf:application/pdf}\n",
    "}\n",
    "@article{osti_5057828,\n",
    "title = {Evaluation of flat-plate solar collector performance},\n",
    "author = {Hottel, H and Whillier, A},\n",
    "abstractNote = {},\n",
    "doi = {},\n",
    "journal = {Trans. Conf. Use of Solar Energy; ()},\n",
    "number = ,\n",
    "volume = 3 (Thermal Processes) Part 2,\n",
    "place = {United States},\n",
    "year = {1955},\n",
    "month = {1}\n",
    "}\n",
    "\n",
    "-->"
   ]
  },
  {
   "cell_type": "code",
   "execution_count": null,
   "metadata": {},
   "outputs": [],
   "source": []
  }
 ],
 "metadata": {
  "kernelspec": {
   "display_name": "Python 3",
   "language": "python",
   "name": "python3"
  },
  "language_info": {
   "codemirror_mode": {
    "name": "ipython",
    "version": 3
   },
   "file_extension": ".py",
   "mimetype": "text/x-python",
   "name": "python",
   "nbconvert_exporter": "python",
   "pygments_lexer": "ipython3",
   "version": "3.7.4"
  },
  "latex_envs": {
   "LaTeX_envs_menu_present": true,
   "autoclose": false,
   "autocomplete": true,
   "bibliofile": "biblio.bib",
   "cite_by": "apalike",
   "current_citInitial": 1,
   "eqLabelWithNumbers": true,
   "eqNumInitial": 1,
   "hotkeys": {
    "equation": "Ctrl-E",
    "itemize": "Ctrl-I"
   },
   "labels_anchors": false,
   "latex_user_defs": false,
   "report_style_numbering": false,
   "user_envs_cfg": false
  },
  "toc": {
   "base_numbering": 1,
   "nav_menu": {},
   "number_sections": true,
   "sideBar": true,
   "skip_h1_title": false,
   "title_cell": "Table of Contents",
   "title_sidebar": "Contents",
   "toc_cell": false,
   "toc_position": {},
   "toc_section_display": true,
   "toc_window_display": false
  }
 },
 "nbformat": 4,
 "nbformat_minor": 4
}
